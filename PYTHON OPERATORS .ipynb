{
 "cells": [
  {
   "cell_type": "code",
   "execution_count": null,
   "id": "2f5e308c",
   "metadata": {},
   "outputs": [],
   "source": [
    "#PYTHON OPERATORS\n",
    "\"\"\"Operators are special symbols or keywords in Python used to perform operations on variables and values.\"\"\""
   ]
  },
  {
   "cell_type": "markdown",
   "id": "f814eee4",
   "metadata": {},
   "source": [
    "## TYPES OF OPERATORS IN PYTHON\n",
    "\n",
    "1. **ARITHMETIC OPERATORS**\n",
    "   Perform basic math operations like addition, subtraction, multiplication, etc.\n",
    "\n",
    "2. **ASSIGNMENT OPERATORS**\n",
    "   Used to assign values to variables.\n",
    "\n",
    "3. **COMPARISON OPERATORS**\n",
    "   Compare two values and return a Boolean result (`True` or `False`).\n",
    "\n",
    "4. **LOGICAL OPERATORS**\n",
    "   Combine conditional statements (`and`, `or`, `not`).\n",
    "\n",
    "5. **IDENTITY OPERATORS**\n",
    "   Check if two variables refer to the same object (`is`, `is not`).\n",
    "\n",
    "6. **MEMBERSHIP OPERATORS**\n",
    "   Test if a value exists within a sequence (`in`, `not in`).\n",
    "\n",
    "7. **BITWISE OPERATORS**\n",
    "   Perform operations on bits (binary digits) like AND, OR, XOR."
   ]
  },
  {
   "cell_type": "code",
   "execution_count": null,
   "id": "ad6e7dcb-3ffa-4eda-a592-65cf1eea4d5b",
   "metadata": {},
   "outputs": [],
   "source": [
    "#ARITHMETIC OPERATORS (Perform basic math operations)\n",
    "\"\"\"\n",
    "OPERATORS IN PYTHON\n",
    "\n",
    "Operator    Description           Example\n",
    "-------------------------------------------\n",
    "+           Addition              5 + 3 = 8\n",
    "-           Subtraction           5 - 3 = 2\n",
    "*           Multiplication        5 * 3 = 15\n",
    "/           Division (float)      5 / 2 = 2.5\n",
    "//          Floor Division (int)  5 // 2 = 2\n",
    "%           Modulus (remainder)   5 % 2 = 1\n",
    "**          Exponentiation        5 ** 2 = 25\n",
    "\"\"\""
   ]
  },
  {
   "cell_type": "code",
   "execution_count": 5,
   "id": "0d5c6067",
   "metadata": {},
   "outputs": [
    {
     "name": "stdin",
     "output_type": "stream",
     "text": [
      "enter the number 100\n",
      "enter the number 200\n"
     ]
    }
   ],
   "source": [
    "a = int(input(\"enter the number\"))\n",
    "b = int(input(\"enter the number\"))"
   ]
  },
  {
   "cell_type": "code",
   "execution_count": 7,
   "id": "6111f21b",
   "metadata": {},
   "outputs": [
    {
     "name": "stdout",
     "output_type": "stream",
     "text": [
      "300\n"
     ]
    }
   ],
   "source": [
    "print(a+b)"
   ]
  },
  {
   "cell_type": "code",
   "execution_count": 9,
   "id": "5ef1cfc4",
   "metadata": {},
   "outputs": [
    {
     "name": "stdout",
     "output_type": "stream",
     "text": [
      "-100\n"
     ]
    }
   ],
   "source": [
    "print(a-b)"
   ]
  },
  {
   "cell_type": "code",
   "execution_count": 11,
   "id": "2cf872b5",
   "metadata": {},
   "outputs": [
    {
     "name": "stdout",
     "output_type": "stream",
     "text": [
      "20000\n"
     ]
    }
   ],
   "source": [
    "print(a*b)"
   ]
  },
  {
   "cell_type": "code",
   "execution_count": 47,
   "id": "f54fea02",
   "metadata": {},
   "outputs": [
    {
     "name": "stdout",
     "output_type": "stream",
     "text": [
      "0.5\n"
     ]
    }
   ],
   "source": [
    "print(a/b)"
   ]
  },
  {
   "cell_type": "code",
   "execution_count": 49,
   "id": "9122c7eb",
   "metadata": {},
   "outputs": [
    {
     "name": "stdout",
     "output_type": "stream",
     "text": [
      "10000\n"
     ]
    }
   ],
   "source": [
    "print(a**2)"
   ]
  },
  {
   "cell_type": "code",
   "execution_count": 51,
   "id": "226d03f2",
   "metadata": {},
   "outputs": [
    {
     "name": "stdout",
     "output_type": "stream",
     "text": [
      "0\n"
     ]
    }
   ],
   "source": [
    "print(a//b)"
   ]
  },
  {
   "cell_type": "code",
   "execution_count": 61,
   "id": "47538a6d-666d-48a4-90c4-c773274a852f",
   "metadata": {},
   "outputs": [
    {
     "name": "stdout",
     "output_type": "stream",
     "text": [
      "100\n"
     ]
    }
   ],
   "source": [
    "print(a%b)"
   ]
  },
  {
   "cell_type": "code",
   "execution_count": 64,
   "id": "050ff4e7",
   "metadata": {},
   "outputs": [],
   "source": [
    "#ASSIGNMENT OPERATORS(Used to assign values to variables)"
   ]
  },
  {
   "cell_type": "code",
   "execution_count": 66,
   "id": "0ada9ff4",
   "metadata": {},
   "outputs": [
    {
     "name": "stdout",
     "output_type": "stream",
     "text": [
      "8\n"
     ]
    }
   ],
   "source": [
    "a=5\n",
    "a+=3\n",
    "print(a)"
   ]
  },
  {
   "cell_type": "code",
   "execution_count": 68,
   "id": "b24eae88",
   "metadata": {},
   "outputs": [
    {
     "name": "stdout",
     "output_type": "stream",
     "text": [
      "5\n"
     ]
    }
   ],
   "source": [
    "a-=3\n",
    "print(a)"
   ]
  },
  {
   "cell_type": "code",
   "execution_count": 70,
   "id": "8357f3b7",
   "metadata": {},
   "outputs": [
    {
     "name": "stdout",
     "output_type": "stream",
     "text": [
      "15\n"
     ]
    }
   ],
   "source": [
    "a*=3\n",
    "print(a)"
   ]
  },
  {
   "cell_type": "code",
   "execution_count": 72,
   "id": "029107e9",
   "metadata": {},
   "outputs": [
    {
     "name": "stdout",
     "output_type": "stream",
     "text": [
      "5.0\n"
     ]
    }
   ],
   "source": [
    "a/=3\n",
    "print(a)"
   ]
  },
  {
   "cell_type": "code",
   "execution_count": 74,
   "id": "ee45486c",
   "metadata": {},
   "outputs": [
    {
     "name": "stdout",
     "output_type": "stream",
     "text": [
      "2.0\n"
     ]
    }
   ],
   "source": [
    "a%=3\n",
    "print(a)"
   ]
  },
  {
   "cell_type": "code",
   "execution_count": null,
   "id": "c9efff9f-49a3-4309-bc51-01613c6975a3",
   "metadata": {},
   "outputs": [],
   "source": [
    "#COMPARISION OPERATORS(Compare two values and return a Boolean result (`True` or `False`))"
   ]
  },
  {
   "cell_type": "code",
   "execution_count": 76,
   "id": "bcd7b8ad",
   "metadata": {},
   "outputs": [],
   "source": [
    "a=15\n",
    "b=10"
   ]
  },
  {
   "cell_type": "code",
   "execution_count": 78,
   "id": "4fea3fcc",
   "metadata": {},
   "outputs": [
    {
     "name": "stdout",
     "output_type": "stream",
     "text": [
      "False\n"
     ]
    }
   ],
   "source": [
    "print(a==b)"
   ]
  },
  {
   "cell_type": "code",
   "execution_count": 80,
   "id": "ac5a4c7c",
   "metadata": {},
   "outputs": [
    {
     "name": "stdout",
     "output_type": "stream",
     "text": [
      "True\n"
     ]
    }
   ],
   "source": [
    "print(a!=b)"
   ]
  },
  {
   "cell_type": "code",
   "execution_count": 82,
   "id": "7597d7e5",
   "metadata": {},
   "outputs": [
    {
     "name": "stdout",
     "output_type": "stream",
     "text": [
      "True\n"
     ]
    }
   ],
   "source": [
    "print(a>b)"
   ]
  },
  {
   "cell_type": "code",
   "execution_count": 84,
   "id": "79ecd5c4-2092-4740-835f-0224343644b2",
   "metadata": {},
   "outputs": [
    {
     "name": "stdout",
     "output_type": "stream",
     "text": [
      "True\n"
     ]
    }
   ],
   "source": [
    "print(a>=b)"
   ]
  },
  {
   "cell_type": "code",
   "execution_count": 86,
   "id": "a74f853f",
   "metadata": {},
   "outputs": [
    {
     "name": "stdout",
     "output_type": "stream",
     "text": [
      "False\n"
     ]
    }
   ],
   "source": [
    "print(a<=b)"
   ]
  },
  {
   "cell_type": "code",
   "execution_count": null,
   "id": "b36d0bc6-68a1-4483-80d7-a2678c99b1c0",
   "metadata": {},
   "outputs": [],
   "source": []
  }
 ],
 "metadata": {
  "kernelspec": {
   "display_name": "Python [conda env:base] *",
   "language": "python",
   "name": "conda-base-py"
  },
  "language_info": {
   "codemirror_mode": {
    "name": "ipython",
    "version": 3
   },
   "file_extension": ".py",
   "mimetype": "text/x-python",
   "name": "python",
   "nbconvert_exporter": "python",
   "pygments_lexer": "ipython3",
   "version": "3.12.7"
  }
 },
 "nbformat": 4,
 "nbformat_minor": 5
}
