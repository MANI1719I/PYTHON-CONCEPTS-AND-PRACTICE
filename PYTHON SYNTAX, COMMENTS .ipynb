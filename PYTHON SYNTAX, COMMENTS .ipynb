{
 "cells": [
  {
   "cell_type": "code",
   "execution_count": null,
   "id": "8cc0cdef-5554-4936-87c8-d17217f83fad",
   "metadata": {
    "jupyter": {
     "source_hidden": true
    }
   },
   "outputs": [],
   "source": [
    "SYSTEM VERSION"
   ]
  },
  {
   "cell_type": "code",
   "execution_count": 2,
   "id": "a6ca02a8",
   "metadata": {},
   "outputs": [
    {
     "data": {
      "text/plain": [
       "'3.12.7 | packaged by Anaconda, Inc. | (main, Oct  4 2024, 13:17:27) [MSC v.1929 64 bit (AMD64)]'"
      ]
     },
     "execution_count": 2,
     "metadata": {},
     "output_type": "execute_result"
    }
   ],
   "source": [
    "import sys\n",
    "sys.version"
   ]
  },
  {
   "cell_type": "code",
   "execution_count": null,
   "id": "960b5f6d-d10c-4f9f-bc4b-1ea5ebefe43d",
   "metadata": {
    "jupyter": {
     "source_hidden": true
    }
   },
   "outputs": [],
   "source": [
    "SINGLE LINE COMMENT"
   ]
  },
  {
   "cell_type": "code",
   "execution_count": 4,
   "id": "867a261b",
   "metadata": {},
   "outputs": [],
   "source": [
    "# - using this we can write a single line comment"
   ]
  },
  {
   "cell_type": "code",
   "execution_count": null,
   "id": "a239ef54-9ed9-4e84-914b-87234c6aed49",
   "metadata": {
    "jupyter": {
     "source_hidden": true
    }
   },
   "outputs": [],
   "source": [
    "MULTILINE COMMENT"
   ]
  },
  {
   "cell_type": "code",
   "execution_count": 6,
   "id": "24d53291",
   "metadata": {},
   "outputs": [
    {
     "data": {
      "text/plain": [
       "'a=5\\nb=10\\nprint(a+b)'"
      ]
     },
     "execution_count": 6,
     "metadata": {},
     "output_type": "execute_result"
    }
   ],
   "source": [
    "# using ''' we can comment multiline ex:\n",
    "'''a=5\n",
    "b=10\n",
    "print(a+b)'''"
   ]
  },
  {
   "cell_type": "code",
   "execution_count": null,
   "id": "11e46ad9-f280-428d-a4cf-318d52c7e1bc",
   "metadata": {
    "jupyter": {
     "source_hidden": true
    }
   },
   "outputs": [],
   "source": [
    "LEGAL VARIABLE"
   ]
  },
  {
   "cell_type": "code",
   "execution_count": 8,
   "id": "095421c3",
   "metadata": {},
   "outputs": [],
   "source": [
    "number = 1\n",
    "num_ber = 1\n",
    "_num_ber =1\n",
    "nuMbEr =1\n",
    "NUMBER =1\n",
    "NUMBER1 =1"
   ]
  },
  {
   "cell_type": "code",
   "execution_count": null,
   "id": "db747d14-2e77-47bb-83cd-9ec9b182fc87",
   "metadata": {
    "jupyter": {
     "source_hidden": true
    }
   },
   "outputs": [],
   "source": [
    "ILLEGAL VARIABLE"
   ]
  },
  {
   "cell_type": "code",
   "execution_count": 9,
   "id": "9953a837",
   "metadata": {},
   "outputs": [
    {
     "ename": "SyntaxError",
     "evalue": "invalid decimal literal (2236074312.py, line 1)",
     "output_type": "error",
     "traceback": [
      "\u001b[1;36m  Cell \u001b[1;32mIn[9], line 1\u001b[1;36m\u001b[0m\n\u001b[1;33m    1number =1\u001b[0m\n\u001b[1;37m    ^\u001b[0m\n\u001b[1;31mSyntaxError\u001b[0m\u001b[1;31m:\u001b[0m invalid decimal literal\n"
     ]
    }
   ],
   "source": [
    "1number =1\n",
    "num-ber =1\n",
    "my var =1"
   ]
  },
  {
   "cell_type": "code",
   "execution_count": null,
   "id": "d6cce60b-85e9-4359-bdcf-9a5a85814bdc",
   "metadata": {
    "jupyter": {
     "source_hidden": true
    }
   },
   "outputs": [],
   "source": [
    "MULTIPLE ASSIGNMENT"
   ]
  },
  {
   "cell_type": "code",
   "execution_count": null,
   "id": "79fbc00b-bee7-4368-af05-c580d76e92f4",
   "metadata": {
    "jupyter": {
     "source_hidden": true
    }
   },
   "outputs": [],
   "source": [
    "PACK LIST"
   ]
  },
  {
   "cell_type": "code",
   "execution_count": 11,
   "id": "3c615c28",
   "metadata": {},
   "outputs": [
    {
     "data": {
      "text/plain": [
       "'orange'"
      ]
     },
     "execution_count": 11,
     "metadata": {},
     "output_type": "execute_result"
    }
   ],
   "source": [
    "k=l=m=\"orange\"\n",
    "m"
   ]
  },
  {
   "cell_type": "code",
   "execution_count": 13,
   "id": "5d4a363b",
   "metadata": {},
   "outputs": [
    {
     "data": {
      "text/plain": [
       "'apple'"
      ]
     },
     "execution_count": 13,
     "metadata": {},
     "output_type": "execute_result"
    }
   ],
   "source": [
    "k,l,m=\"orange\",\"apple\",\"banana\"\n",
    "l"
   ]
  },
  {
   "cell_type": "code",
   "execution_count": null,
   "id": "b7617fc7-deab-487c-9213-4151796e8929",
   "metadata": {
    "jupyter": {
     "source_hidden": true
    }
   },
   "outputs": [],
   "source": [
    "UNPACK LIST"
   ]
  },
  {
   "cell_type": "code",
   "execution_count": 19,
   "id": "793470c0-5a38-40d1-b3e9-2a02fdb4516c",
   "metadata": {},
   "outputs": [
    {
     "name": "stdout",
     "output_type": "stream",
     "text": [
      "apple\n",
      "banana\n",
      "cherry\n"
     ]
    }
   ],
   "source": [
    "fruits = [\"apple\", \"banana\", \"cherry\"]\n",
    "x, y, z = fruits\n",
    "print(x)\n",
    "print(y)\n",
    "print(z)"
   ]
  },
  {
   "cell_type": "code",
   "execution_count": null,
   "id": "e4aef95b-6d12-41d2-b1f7-2dec1b78ee99",
   "metadata": {
    "jupyter": {
     "source_hidden": true
    }
   },
   "outputs": [],
   "source": [
    "STATIC VALUE"
   ]
  },
  {
   "cell_type": "code",
   "execution_count": 7,
   "id": "e2e700eb",
   "metadata": {},
   "outputs": [
    {
     "name": "stdout",
     "output_type": "stream",
     "text": [
      "576\n"
     ]
    }
   ],
   "source": [
    "k=120\n",
    "l=456\n",
    "print(k+l)"
   ]
  },
  {
   "cell_type": "code",
   "execution_count": null,
   "id": "02b38658-4820-49ef-bf41-5dc00f6c7cf0",
   "metadata": {
    "jupyter": {
     "source_hidden": true
    }
   },
   "outputs": [],
   "source": [
    "DYNAMIC VALUE"
   ]
  },
  {
   "cell_type": "code",
   "execution_count": 17,
   "id": "d59cc540",
   "metadata": {},
   "outputs": [
    {
     "name": "stdin",
     "output_type": "stream",
     "text": [
      "Enter the Input MANI\n"
     ]
    },
    {
     "name": "stdout",
     "output_type": "stream",
     "text": [
      "MANI\n"
     ]
    }
   ],
   "source": [
    "k=input(\"Enter the Input\")\n",
    "print(k)"
   ]
  }
 ],
 "metadata": {
  "kernelspec": {
   "display_name": "Python [conda env:base] *",
   "language": "python",
   "name": "conda-base-py"
  },
  "language_info": {
   "codemirror_mode": {
    "name": "ipython",
    "version": 3
   },
   "file_extension": ".py",
   "mimetype": "text/x-python",
   "name": "python",
   "nbconvert_exporter": "python",
   "pygments_lexer": "ipython3",
   "version": "3.12.7"
  }
 },
 "nbformat": 4,
 "nbformat_minor": 5
}
