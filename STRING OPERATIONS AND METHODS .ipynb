{
 "cells": [
  {
   "cell_type": "code",
   "execution_count": null,
   "id": "1cc1ea62-217b-4ff6-9e6f-ffa866eb9efb",
   "metadata": {
    "jupyter": {
     "source_hidden": true
    }
   },
   "outputs": [],
   "source": [
    "STRING"
   ]
  },
  {
   "cell_type": "code",
   "execution_count": 2,
   "id": "5cc661ff",
   "metadata": {},
   "outputs": [
    {
     "name": "stdout",
     "output_type": "stream",
     "text": [
      "String & its Types\n"
     ]
    }
   ],
   "source": [
    "print(\"String & its Types\")"
   ]
  },
  {
   "cell_type": "code",
   "execution_count": null,
   "id": "12603b8e-c7b1-4c58-8734-4cc8b942ba1c",
   "metadata": {
    "jupyter": {
     "source_hidden": true
    }
   },
   "outputs": [],
   "source": [
    "MULTILINE STRING"
   ]
  },
  {
   "cell_type": "code",
   "execution_count": 10,
   "id": "02612518",
   "metadata": {},
   "outputs": [
    {
     "name": "stdout",
     "output_type": "stream",
     "text": [
      " Late at night, Emma found an old, \n",
      "dusty key hidden under a loose floorboard.\n",
      "Curiosity led her to the attic, \n",
      "where she discovered a locked chest that seemed to hum with energy. \n",
      "As she turned the key, the chest creaked open, \n",
      "revealing a portal to a world she never imagined.\n"
     ]
    }
   ],
   "source": [
    "Multiline= \"\"\" Late at night, Emma found an old, \n",
    "dusty key hidden under a loose floorboard.\n",
    "Curiosity led her to the attic, \n",
    "where she discovered a locked chest that seemed to hum with energy. \n",
    "As she turned the key, the chest creaked open, \n",
    "revealing a portal to a world she never imagined.\"\"\"\n",
    "\n",
    "print(Multiline)"
   ]
  },
  {
   "cell_type": "code",
   "execution_count": null,
   "id": "f14c9906-cd89-4f20-b242-75a50aa77489",
   "metadata": {
    "jupyter": {
     "source_hidden": true
    }
   },
   "outputs": [],
   "source": [
    "STRING LENGTH"
   ]
  },
  {
   "cell_type": "code",
   "execution_count": 16,
   "id": "91553c0f",
   "metadata": {},
   "outputs": [
    {
     "name": "stdout",
     "output_type": "stream",
     "text": [
      "12\n"
     ]
    }
   ],
   "source": [
    "A = \"Hello Python\"\n",
    "print(len(A))"
   ]
  },
  {
   "cell_type": "code",
   "execution_count": 22,
   "id": "f26ba318-5ec2-42b8-aa26-7afae896e2cb",
   "metadata": {},
   "outputs": [
    {
     "name": "stdout",
     "output_type": "stream",
     "text": [
      "             Hello Python                  \n",
      "43\n"
     ]
    }
   ],
   "source": [
    "A = \"             Hello Python                  \"\n",
    "print(A)\n",
    "print(len(A))"
   ]
  },
  {
   "cell_type": "code",
   "execution_count": null,
   "id": "88cc6c7d-3b65-4b4e-a5d9-fa97610fd6b5",
   "metadata": {
    "jupyter": {
     "source_hidden": true
    }
   },
   "outputs": [],
   "source": [
    "STRING INDEXING "
   ]
  },
  {
   "cell_type": "code",
   "execution_count": 32,
   "id": "e6266902",
   "metadata": {},
   "outputs": [
    {
     "name": "stdout",
     "output_type": "stream",
     "text": [
      "e\n"
     ]
    }
   ],
   "source": [
    "B = \"Hello, World!\"\n",
    "print(B[1])"
   ]
  },
  {
   "cell_type": "code",
   "execution_count": 30,
   "id": "b2e33fc9",
   "metadata": {},
   "outputs": [
    {
     "name": "stdout",
     "output_type": "stream",
     "text": [
      "!\n"
     ]
    }
   ],
   "source": [
    "B = \"Hello, World!\"\n",
    "print(B[-1])"
   ]
  },
  {
   "cell_type": "code",
   "execution_count": null,
   "id": "64e9598c-6f81-4452-a08d-d637ab8afd91",
   "metadata": {
    "jupyter": {
     "source_hidden": true
    }
   },
   "outputs": [],
   "source": [
    "STRING SLICING"
   ]
  },
  {
   "cell_type": "code",
   "execution_count": 38,
   "id": "763f0832",
   "metadata": {},
   "outputs": [
    {
     "name": "stdout",
     "output_type": "stream",
     "text": [
      "He\n"
     ]
    }
   ],
   "source": [
    "C = \"Hello, World!\"\n",
    "print(C[0:2])"
   ]
  },
  {
   "cell_type": "code",
   "execution_count": 40,
   "id": "250db104",
   "metadata": {},
   "outputs": [
    {
     "name": "stdout",
     "output_type": "stream",
     "text": [
      "llo, World!\n"
     ]
    }
   ],
   "source": [
    "C = \"Hello, World!\"\n",
    "print(C[2:])"
   ]
  },
  {
   "cell_type": "code",
   "execution_count": 42,
   "id": "6d99fd3a",
   "metadata": {},
   "outputs": [
    {
     "name": "stdout",
     "output_type": "stream",
     "text": [
      "Hello,\n"
     ]
    }
   ],
   "source": [
    "C = \"Hello, World!\"\n",
    "print(C[:6])"
   ]
  },
  {
   "cell_type": "code",
   "execution_count": 44,
   "id": "420df04a",
   "metadata": {},
   "outputs": [
    {
     "name": "stdout",
     "output_type": "stream",
     "text": [
      "orl\n"
     ]
    }
   ],
   "source": [
    "C = \"Hello, World!\"\n",
    "print(C[-5:-2])"
   ]
  },
  {
   "cell_type": "code",
   "execution_count": 46,
   "id": "e18c0f6b",
   "metadata": {},
   "outputs": [
    {
     "name": "stdout",
     "output_type": "stream",
     "text": [
      "Hello, Worl\n"
     ]
    }
   ],
   "source": [
    "C = \"Hello, World!\"\n",
    "print(C[:-2])"
   ]
  },
  {
   "cell_type": "code",
   "execution_count": 48,
   "id": "2b163610",
   "metadata": {},
   "outputs": [
    {
     "name": "stdout",
     "output_type": "stream",
     "text": [
      "orld!\n"
     ]
    }
   ],
   "source": [
    "C = \"Hello, World!\"\n",
    "print(C[-5:])"
   ]
  },
  {
   "cell_type": "code",
   "execution_count": null,
   "id": "ba86140b-3d9a-49d5-95a3-a766f734fc8f",
   "metadata": {
    "jupyter": {
     "source_hidden": true
    }
   },
   "outputs": [],
   "source": [
    "STRING MODIFY"
   ]
  },
  {
   "cell_type": "code",
   "execution_count": 4,
   "id": "cf3b61cd",
   "metadata": {},
   "outputs": [
    {
     "name": "stdout",
     "output_type": "stream",
     "text": [
      "HELLO, WORLD!\n"
     ]
    }
   ],
   "source": [
    "a = \"Hello, World!\"\n",
    "print(a.upper())"
   ]
  },
  {
   "cell_type": "code",
   "execution_count": 34,
   "id": "37774bcc",
   "metadata": {},
   "outputs": [
    {
     "name": "stdout",
     "output_type": "stream",
     "text": [
      "Hello, world!\n"
     ]
    }
   ],
   "source": [
    "a = \"hello, World!\"\n",
    "print(a.capitalize())"
   ]
  },
  {
   "cell_type": "code",
   "execution_count": 32,
   "id": "f9312c5d",
   "metadata": {},
   "outputs": [
    {
     "name": "stdout",
     "output_type": "stream",
     "text": [
      "hello, world!\n"
     ]
    }
   ],
   "source": [
    "a = \"Hello, World!\"\n",
    "print(a.lower())"
   ]
  },
  {
   "cell_type": "code",
   "execution_count": 4,
   "id": "4a9fb41a",
   "metadata": {},
   "outputs": [
    {
     "name": "stdout",
     "output_type": "stream",
     "text": [
      "Hello, World!\n"
     ]
    }
   ],
   "source": [
    "a = \"    Hello, World!    \"\n",
    "print(a.strip())"
   ]
  },
  {
   "cell_type": "code",
   "execution_count": 5,
   "id": "050d695e",
   "metadata": {},
   "outputs": [
    {
     "name": "stdout",
     "output_type": "stream",
     "text": [
      "21\n",
      "13\n"
     ]
    }
   ],
   "source": [
    "a = \"    Hello, World!    \"\n",
    "b=a.strip()\n",
    "print(len(a))\n",
    "print(len(b))"
   ]
  },
  {
   "cell_type": "code",
   "execution_count": 2,
   "id": "dcdc4b46",
   "metadata": {},
   "outputs": [
    {
     "name": "stdout",
     "output_type": "stream",
     "text": [
      "['Hello,', 'World!']\n"
     ]
    }
   ],
   "source": [
    "a= \"    Hello, World!    \"\n",
    "print(a.split())"
   ]
  },
  {
   "cell_type": "code",
   "execution_count": 24,
   "id": "5f6854a1",
   "metadata": {},
   "outputs": [
    {
     "name": "stdout",
     "output_type": "stream",
     "text": [
      "H\n",
      "World!\n"
     ]
    }
   ],
   "source": [
    "a = \"Hello, World!\"\n",
    "print(a[0])\n",
    "b=a.split()\n",
    "print(b[1])"
   ]
  },
  {
   "cell_type": "code",
   "execution_count": null,
   "id": "55202556-9e1f-4380-9f8b-0fd4bde6102b",
   "metadata": {
    "jupyter": {
     "source_hidden": true
    }
   },
   "outputs": [],
   "source": [
    "STRING FORMATTING"
   ]
  },
  {
   "cell_type": "code",
   "execution_count": 6,
   "id": "60aaeb0b",
   "metadata": {},
   "outputs": [
    {
     "name": "stdin",
     "output_type": "stream",
     "text": [
      "enter your name Mani\n",
      "enter your place Chennai\n"
     ]
    },
    {
     "name": "stdout",
     "output_type": "stream",
     "text": [
      "I am Mani from Chennai\n"
     ]
    }
   ],
   "source": [
    "a=input(\"enter your name\")\n",
    "b=input(\"enter your place\")\n",
    "k=f\"I am {a} from {b}\"\n",
    "print(k)"
   ]
  },
  {
   "cell_type": "code",
   "execution_count": 10,
   "id": "b9554b60-3552-423f-9ec4-5456a40daf8f",
   "metadata": {},
   "outputs": [
    {
     "name": "stdin",
     "output_type": "stream",
     "text": [
      "name Mani\n",
      "age 23\n"
     ]
    },
    {
     "name": "stdout",
     "output_type": "stream",
     "text": [
      "NAME : Mani AGE : 23\n"
     ]
    }
   ],
   "source": [
    "a = input(\"name\")\n",
    "b = int(input(\"age\"))\n",
    "c = f\"NAME : {a} AGE : {b}\"\n",
    "print(c)"
   ]
  }
 ],
 "metadata": {
  "kernelspec": {
   "display_name": "Python [conda env:base] *",
   "language": "python",
   "name": "conda-base-py"
  },
  "language_info": {
   "codemirror_mode": {
    "name": "ipython",
    "version": 3
   },
   "file_extension": ".py",
   "mimetype": "text/x-python",
   "name": "python",
   "nbconvert_exporter": "python",
   "pygments_lexer": "ipython3",
   "version": "3.12.7"
  }
 },
 "nbformat": 4,
 "nbformat_minor": 5
}
