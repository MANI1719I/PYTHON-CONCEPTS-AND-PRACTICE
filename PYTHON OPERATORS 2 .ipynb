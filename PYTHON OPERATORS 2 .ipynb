{
 "cells": [
  {
   "cell_type": "code",
   "execution_count": null,
   "id": "eb3b9179-e4b0-43d2-87d3-04a4ef583027",
   "metadata": {},
   "outputs": [],
   "source": [
    "#PYTHON LOGIC OPERATORS"
   ]
  },
  {
   "cell_type": "code",
   "execution_count": null,
   "id": "ff1126dd-931f-4dd0-a089-4df689f23f5b",
   "metadata": {},
   "outputs": [],
   "source": [
    "\"\"\"\n",
    "AND\n",
    "OR\n",
    "NOT\n",
    "\"\"\""
   ]
  },
  {
   "cell_type": "code",
   "execution_count": 2,
   "id": "23cdeb7c",
   "metadata": {},
   "outputs": [
    {
     "name": "stdout",
     "output_type": "stream",
     "text": [
      "False\n"
     ]
    }
   ],
   "source": [
    "a = 15\n",
    "print(a > 5 and a < 10)"
   ]
  },
  {
   "cell_type": "code",
   "execution_count": 10,
   "id": "01605f32",
   "metadata": {},
   "outputs": [
    {
     "name": "stdout",
     "output_type": "stream",
     "text": [
      "False\n"
     ]
    }
   ],
   "source": [
    "print(a > 3 and a < 4)"
   ]
  },
  {
   "cell_type": "code",
   "execution_count": 12,
   "id": "290aa2e1",
   "metadata": {},
   "outputs": [
    {
     "name": "stdout",
     "output_type": "stream",
     "text": [
      "True\n"
     ]
    }
   ],
   "source": [
    "print(a > 3 or a < 10)"
   ]
  },
  {
   "cell_type": "code",
   "execution_count": 18,
   "id": "b54df9ce",
   "metadata": {},
   "outputs": [
    {
     "name": "stdout",
     "output_type": "stream",
     "text": [
      "False\n"
     ]
    }
   ],
   "source": [
    "print(not(a > 3 or a < 4))"
   ]
  },
  {
   "cell_type": "code",
   "execution_count": null,
   "id": "747f3a38-756b-4291-8475-f357d6b5078e",
   "metadata": {
    "jupyter": {
     "source_hidden": true
    }
   },
   "outputs": [],
   "source": [
    "#PYTHON IDENTIFY OPERATORS"
   ]
  },
  {
   "cell_type": "code",
   "execution_count": null,
   "id": "648d976a-2d32-408f-aad4-90b886bd2df9",
   "metadata": {},
   "outputs": [],
   "source": [
    "\"\"\"\n",
    "IS\n",
    "IS NOT\n",
    "\"\"\""
   ]
  },
  {
   "cell_type": "code",
   "execution_count": 16,
   "id": "881b1502",
   "metadata": {},
   "outputs": [
    {
     "name": "stdout",
     "output_type": "stream",
     "text": [
      "True\n",
      "True\n",
      "True\n"
     ]
    }
   ],
   "source": [
    "x =[\"apple\"]\n",
    "y =[\"apple\"]\n",
    "z = x\n",
    "\n",
    "print(x is z)\n",
    "print(x is not y)\n",
    "print(x == y)"
   ]
  },
  {
   "cell_type": "code",
   "execution_count": 20,
   "id": "6ed81c67-97a6-433d-a091-16d853357f0d",
   "metadata": {},
   "outputs": [
    {
     "name": "stdout",
     "output_type": "stream",
     "text": [
      "True\n"
     ]
    }
   ],
   "source": [
    "X=10\n",
    "Y=10\n",
    "print(X is Y)"
   ]
  },
  {
   "cell_type": "code",
   "execution_count": 24,
   "id": "b4f139db",
   "metadata": {},
   "outputs": [
    {
     "name": "stdout",
     "output_type": "stream",
     "text": [
      "False\n",
      "True\n"
     ]
    }
   ],
   "source": [
    "print(x is not z)\n",
    "print(x is not y)"
   ]
  },
  {
   "cell_type": "code",
   "execution_count": null,
   "id": "14b71087-4a63-48e2-8364-610934766cdd",
   "metadata": {
    "jupyter": {
     "source_hidden": true
    }
   },
   "outputs": [],
   "source": [
    "#PYTHON MEMBERSHIP OPERATORS"
   ]
  },
  {
   "cell_type": "code",
   "execution_count": null,
   "id": "dd4c2f44-b019-4794-b4d4-118f215d7e24",
   "metadata": {},
   "outputs": [],
   "source": [
    "\"\"\"\n",
    "IN\n",
    "NOT IN\n",
    "\"\"\""
   ]
  },
  {
   "cell_type": "code",
   "execution_count": 28,
   "id": "b139c913",
   "metadata": {},
   "outputs": [
    {
     "name": "stdout",
     "output_type": "stream",
     "text": [
      "True\n"
     ]
    }
   ],
   "source": [
    "a=\"apple\"\n",
    "print(\"p\"  in a)"
   ]
  },
  {
   "cell_type": "code",
   "execution_count": 26,
   "id": "70b5490d",
   "metadata": {},
   "outputs": [
    {
     "name": "stdout",
     "output_type": "stream",
     "text": [
      "True\n"
     ]
    }
   ],
   "source": [
    "a=\"apple\"\n",
    "print(\"s\"  not in a)"
   ]
  }
 ],
 "metadata": {
  "kernelspec": {
   "display_name": "Python [conda env:base] *",
   "language": "python",
   "name": "conda-base-py"
  },
  "language_info": {
   "codemirror_mode": {
    "name": "ipython",
    "version": 3
   },
   "file_extension": ".py",
   "mimetype": "text/x-python",
   "name": "python",
   "nbconvert_exporter": "python",
   "pygments_lexer": "ipython3",
   "version": "3.12.7"
  }
 },
 "nbformat": 4,
 "nbformat_minor": 5
}
